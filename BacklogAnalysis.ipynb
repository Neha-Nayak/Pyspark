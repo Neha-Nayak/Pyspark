{
  "nbformat": 4,
  "nbformat_minor": 0,
  "metadata": {
    "colab": {
      "name": "BacklogAnalysis.ipynb",
      "provenance": [],
      "collapsed_sections": [],
      "mount_file_id": "1YNH7Cgh9UTtDGPg06LZ76EaRGy6CBMBR",
      "authorship_tag": "ABX9TyMXt5OGFXblj0D+BdCz0LFR",
      "include_colab_link": true
    },
    "kernelspec": {
      "name": "python3",
      "display_name": "Python 3"
    },
    "language_info": {
      "name": "python"
    }
  },
  "cells": [
    {
      "cell_type": "markdown",
      "metadata": {
        "id": "view-in-github",
        "colab_type": "text"
      },
      "source": [
        "<a href=\"https://colab.research.google.com/github/Neha-Nayak/Pyspark/blob/main/BacklogAnalysis.ipynb\" target=\"_parent\"><img src=\"https://colab.research.google.com/assets/colab-badge.svg\" alt=\"Open In Colab\"/></a>"
      ]
    },
    {
      "cell_type": "markdown",
      "source": [
        "# **Backlog Analysis**"
      ],
      "metadata": {
        "id": "9x253yW62p2P"
      }
    },
    {
      "cell_type": "code",
      "source": [
        "#!pip install pyspark"
      ],
      "metadata": {
        "colab": {
          "base_uri": "https://localhost:8080/"
        },
        "id": "6nc4-zZ82xyW",
        "outputId": "629cfd8f-a88a-4b4d-e0fe-986e7dd3b1c1"
      },
      "execution_count": null,
      "outputs": [
        {
          "output_type": "stream",
          "name": "stdout",
          "text": [
            "Collecting pyspark\n",
            "  Downloading pyspark-3.2.1.tar.gz (281.4 MB)\n",
            "\u001b[K     |████████████████████████████████| 281.4 MB 34 kB/s \n",
            "\u001b[?25hCollecting py4j==0.10.9.3\n",
            "  Downloading py4j-0.10.9.3-py2.py3-none-any.whl (198 kB)\n",
            "\u001b[K     |████████████████████████████████| 198 kB 32.6 MB/s \n",
            "\u001b[?25hBuilding wheels for collected packages: pyspark\n",
            "  Building wheel for pyspark (setup.py) ... \u001b[?25l\u001b[?25hdone\n",
            "  Created wheel for pyspark: filename=pyspark-3.2.1-py2.py3-none-any.whl size=281853642 sha256=4657155d50f403db83187563075a1a2f3ae3e31011967cd815cd94d826d8e20e\n",
            "  Stored in directory: /root/.cache/pip/wheels/9f/f5/07/7cd8017084dce4e93e84e92efd1e1d5334db05f2e83bcef74f\n",
            "Successfully built pyspark\n",
            "Installing collected packages: py4j, pyspark\n",
            "Successfully installed py4j-0.10.9.3 pyspark-3.2.1\n"
          ]
        }
      ]
    },
    {
      "cell_type": "markdown",
      "source": [
        "Importing Modules"
      ],
      "metadata": {
        "id": "kK0uVwxun44f"
      }
    },
    {
      "cell_type": "code",
      "execution_count": null,
      "metadata": {
        "id": "U9rQjK1y2ESS"
      },
      "outputs": [],
      "source": [
        "from pyspark.sql import SparkSession\n",
        "import pandas as pd"
      ]
    },
    {
      "cell_type": "code",
      "source": [
        "spark=SparkSession.builder.appName(\"Analysis\").getOrCreate()"
      ],
      "metadata": {
        "id": "2zno9qe52n1t"
      },
      "execution_count": null,
      "outputs": []
    },
    {
      "cell_type": "markdown",
      "source": [
        "Reading the given Results_data"
      ],
      "metadata": {
        "id": "uFmXOjrnnwPq"
      }
    },
    {
      "cell_type": "code",
      "source": [
        "df_ResultData=spark.read.csv(\"Results_Data.csv\",header=True,inferSchema=True)\n",
        "df_ResultData.head(10)"
      ],
      "metadata": {
        "colab": {
          "base_uri": "https://localhost:8080/"
        },
        "id": "xwR9SNns2n4f",
        "outputId": "e90565ce-71bc-4d9f-d261-b40599992257"
      },
      "execution_count": 74,
      "outputs": [
        {
          "output_type": "execute_result",
          "data": {
            "text/plain": [
              "[Row(USN='4JN18CS001', SCODE='18MAT11', CIE=32, SEE=41, TOT=73, RESULT='P', GRADE=8, DATE='12019', ExamType='Regular'),\n",
              " Row(USN='4JN18CS001', SCODE='18PHY12', CIE=29, SEE=47, TOT=76, RESULT='P', GRADE=8, DATE='12019', ExamType='Regular'),\n",
              " Row(USN='4JN18CS001', SCODE='18ELE13', CIE=25, SEE=43, TOT=68, RESULT='P', GRADE=7, DATE='12019', ExamType='Regular'),\n",
              " Row(USN='4JN18CS001', SCODE='18CIV14', CIE=31, SEE=26, TOT=57, RESULT='P', GRADE=6, DATE='12019', ExamType='Regular'),\n",
              " Row(USN='4JN18CS001', SCODE='18EGDL15', CIE=31, SEE=56, TOT=87, RESULT='P', GRADE=9, DATE='12019', ExamType='Regular'),\n",
              " Row(USN='4JN18CS001', SCODE='18PHYL16', CIE=32, SEE=40, TOT=72, RESULT='P', GRADE=8, DATE='12019', ExamType='Regular'),\n",
              " Row(USN='4JN18CS001', SCODE='18ELEL17', CIE=34, SEE=52, TOT=86, RESULT='P', GRADE=9, DATE='12019', ExamType='Regular'),\n",
              " Row(USN='4JN18CS001', SCODE='18EGH18', CIE=27, SEE=32, TOT=59, RESULT='P', GRADE=6, DATE='12019', ExamType='Regular'),\n",
              " Row(USN='4JN18CS002', SCODE='18MAT11', CIE=33, SEE=51, TOT=84, RESULT='P', GRADE=9, DATE='12019', ExamType='Regular'),\n",
              " Row(USN='4JN18CS002', SCODE='18PHY12', CIE=36, SEE=45, TOT=81, RESULT='P', GRADE=9, DATE='12019', ExamType='Regular')]"
            ]
          },
          "metadata": {},
          "execution_count": 74
        }
      ]
    },
    {
      "cell_type": "code",
      "source": [
        "df_ResultData.show(10)"
      ],
      "metadata": {
        "colab": {
          "base_uri": "https://localhost:8080/"
        },
        "id": "GabcpQ7z2n63",
        "outputId": "e85c35e0-f72e-4bee-a8c8-3845fa2c2a89"
      },
      "execution_count": 75,
      "outputs": [
        {
          "output_type": "stream",
          "name": "stdout",
          "text": [
            "+----------+--------+---+---+---+------+-----+-----+--------+\n",
            "|       USN|   SCODE|CIE|SEE|TOT|RESULT|GRADE| DATE|ExamType|\n",
            "+----------+--------+---+---+---+------+-----+-----+--------+\n",
            "|4JN18CS001| 18MAT11| 32| 41| 73|     P|    8|12019| Regular|\n",
            "|4JN18CS001| 18PHY12| 29| 47| 76|     P|    8|12019| Regular|\n",
            "|4JN18CS001| 18ELE13| 25| 43| 68|     P|    7|12019| Regular|\n",
            "|4JN18CS001| 18CIV14| 31| 26| 57|     P|    6|12019| Regular|\n",
            "|4JN18CS001|18EGDL15| 31| 56| 87|     P|    9|12019| Regular|\n",
            "|4JN18CS001|18PHYL16| 32| 40| 72|     P|    8|12019| Regular|\n",
            "|4JN18CS001|18ELEL17| 34| 52| 86|     P|    9|12019| Regular|\n",
            "|4JN18CS001| 18EGH18| 27| 32| 59|     P|    6|12019| Regular|\n",
            "|4JN18CS002| 18MAT11| 33| 51| 84|     P|    9|12019| Regular|\n",
            "|4JN18CS002| 18PHY12| 36| 45| 81|     P|    9|12019| Regular|\n",
            "+----------+--------+---+---+---+------+-----+-----+--------+\n",
            "only showing top 10 rows\n",
            "\n"
          ]
        }
      ]
    },
    {
      "cell_type": "code",
      "source": [
        "df=df_ResultData.select('USN','SCODE','TOT','RESULT','ExamType')\n",
        "df.show()"
      ],
      "metadata": {
        "colab": {
          "base_uri": "https://localhost:8080/"
        },
        "id": "vvwlNFISnsK8",
        "outputId": "57e8bf0b-8eb8-4caf-870e-0a297db056ed"
      },
      "execution_count": 191,
      "outputs": [
        {
          "output_type": "stream",
          "name": "stdout",
          "text": [
            "+----------+--------+---+------+--------+\n",
            "|       USN|   SCODE|TOT|RESULT|ExamType|\n",
            "+----------+--------+---+------+--------+\n",
            "|4JN18CS001| 18MAT11| 73|     P| Regular|\n",
            "|4JN18CS001| 18PHY12| 76|     P| Regular|\n",
            "|4JN18CS001| 18ELE13| 68|     P| Regular|\n",
            "|4JN18CS001| 18CIV14| 57|     P| Regular|\n",
            "|4JN18CS001|18EGDL15| 87|     P| Regular|\n",
            "|4JN18CS001|18PHYL16| 72|     P| Regular|\n",
            "|4JN18CS001|18ELEL17| 86|     P| Regular|\n",
            "|4JN18CS001| 18EGH18| 59|     P| Regular|\n",
            "|4JN18CS002| 18MAT11| 84|     P| Regular|\n",
            "|4JN18CS002| 18PHY12| 81|     P| Regular|\n",
            "|4JN18CS002| 18ELE13| 68|     P| Regular|\n",
            "|4JN18CS002| 18CIV14| 63|     P| Regular|\n",
            "|4JN18CS002|18EGDL15| 89|     P| Regular|\n",
            "|4JN18CS002|18PHYL16| 75|     P| Regular|\n",
            "|4JN18CS002|18ELEL17| 84|     P| Regular|\n",
            "|4JN18CS002| 18EGH18| 72|     P| Regular|\n",
            "|4JN18CS003| 18MAT11| 81|     P| Regular|\n",
            "|4JN18CS003| 18PHY12| 73|     P| Regular|\n",
            "|4JN18CS003| 18ELE13| 81|     P| Regular|\n",
            "|4JN18CS003| 18CIV14| 72|     P| Regular|\n",
            "+----------+--------+---+------+--------+\n",
            "only showing top 20 rows\n",
            "\n"
          ]
        }
      ]
    },
    {
      "cell_type": "markdown",
      "source": [
        "Removing Null values"
      ],
      "metadata": {
        "id": "-ng11TBZ5mFQ"
      }
    },
    {
      "cell_type": "code",
      "source": [
        "df_ResultData.select('ExamType').distinct().show()"
      ],
      "metadata": {
        "colab": {
          "base_uri": "https://localhost:8080/"
        },
        "id": "IY3gcrsv2n-S",
        "outputId": "a4a3ec63-835d-4010-d7f0-551185c2eff1"
      },
      "execution_count": 76,
      "outputs": [
        {
          "output_type": "stream",
          "name": "stdout",
          "text": [
            "+--------+\n",
            "|ExamType|\n",
            "+--------+\n",
            "| Backlog|\n",
            "|    null|\n",
            "| Regular|\n",
            "+--------+\n",
            "\n"
          ]
        }
      ]
    },
    {
      "cell_type": "code",
      "source": [
        "dftry=df.na.drop(how='any',subset='ExamType')\n",
        "dftry.select('ExamType').distinct().show()"
      ],
      "metadata": {
        "colab": {
          "base_uri": "https://localhost:8080/"
        },
        "id": "1mvIMJL54cEJ",
        "outputId": "2ba5524c-359a-428b-fc41-52e2a7b6a106"
      },
      "execution_count": 141,
      "outputs": [
        {
          "output_type": "stream",
          "name": "stdout",
          "text": [
            "+--------+\n",
            "|ExamType|\n",
            "+--------+\n",
            "| Backlog|\n",
            "| Regular|\n",
            "+--------+\n",
            "\n"
          ]
        }
      ]
    },
    {
      "cell_type": "markdown",
      "source": [
        "Student who failed Regular Exam."
      ],
      "metadata": {
        "id": "GcW4xh5Knm4C"
      }
    },
    {
      "cell_type": "code",
      "source": [
        "df1=dftry.filter((dftry.ExamType == 'Regular') & (dftry.RESULT == \"F\"))\n",
        "df1.show(30)"
      ],
      "metadata": {
        "colab": {
          "base_uri": "https://localhost:8080/"
        },
        "id": "TES0dMts4cHJ",
        "outputId": "45d0e5c4-fc34-49f4-e002-2025aad67aa0"
      },
      "execution_count": 170,
      "outputs": [
        {
          "output_type": "stream",
          "name": "stdout",
          "text": [
            "+----------+--------+---+------+--------+\n",
            "|       USN|   SCODE|TOT|RESULT|ExamType|\n",
            "+----------+--------+---+------+--------+\n",
            "|4JN18CS005| 18CIV14| 42|     F| Regular|\n",
            "|4JN18CS008|18EGDL15| 51|     F| Regular|\n",
            "|4JN18CS010|18EGDL15| 52|     F| Regular|\n",
            "|4JN18CS017| 18ELE13| 42|     F| Regular|\n",
            "|4JN18CS018|18EGDL15| 49|     F| Regular|\n",
            "|4JN18CS024| 18ELE13| 34|     F| Regular|\n",
            "|4JN18CS027| 18MAT11| 44|     F| Regular|\n",
            "|4JN18CS027| 18ELE13| 25|     F| Regular|\n",
            "|4JN18CS027|18PHYL16| 37|     F| Regular|\n",
            "|4JN18CS035| 18ELE13| 37|     F| Regular|\n",
            "|4JN18CS039| 18MAT11| 21|     F| Regular|\n",
            "|4JN18CS039| 18PHY12| 21|     F| Regular|\n",
            "|4JN18CS039| 18ELE13| 25|     F| Regular|\n",
            "|4JN18CS039| 18CIV14| 34|     F| Regular|\n",
            "|4JN18CS039|18EGDL15| 42|     F| Regular|\n",
            "|4JN18CS039|18PHYL16| 44|     F| Regular|\n",
            "|4JN18CS040| 18ELE13| 38|     F| Regular|\n",
            "|4JN18CS041| 18MAT11| 43|     F| Regular|\n",
            "|4JN18CS041| 18ELE13| 31|     F| Regular|\n",
            "|4JN18CS041| 18CIV14| 41|     F| Regular|\n",
            "|4JN18CS041|18EGDL15| 36|     F| Regular|\n",
            "|4JN18CS044|18EGDL15| 49|     F| Regular|\n",
            "|4JN18CS046|18EGDL15| 53|     F| Regular|\n",
            "|4JN18CS047| 18MAT11| 34|     F| Regular|\n",
            "|4JN18CS047| 18ELE13| 28|     F| Regular|\n",
            "|4JN18CS047| 18CIV14| 32|     F| Regular|\n",
            "|4JN18CS047|18EGDL15| 49|     F| Regular|\n",
            "|4JN18CS047|18PHYL16| 48|     F| Regular|\n",
            "|4JN18CS050| 18ELE13| 29|     F| Regular|\n",
            "|4JN18CS069| 18PHY12| 43|     F| Regular|\n",
            "+----------+--------+---+------+--------+\n",
            "only showing top 30 rows\n",
            "\n"
          ]
        }
      ]
    },
    {
      "cell_type": "markdown",
      "source": [
        "Function for determining whether a student has passed in the backlog exam."
      ],
      "metadata": {
        "id": "PqF5CDRGnM4x"
      }
    },
    {
      "cell_type": "code",
      "source": [
        "def check_usn(usn):\n",
        "  flag=[]\n",
        "  df2=dftry.filter((dftry.ExamType == 'Regular') & (dftry.RESULT == \"F\")& (dftry.USN == usn))\n",
        "  df3=dftry.filter((dftry.ExamType == 'Backlog') & (dftry.RESULT == \"P\")& (dftry.USN == usn))\n",
        "  for i in df2.select(\"SCODE\").collect():\n",
        "    if i['SCODE'] in df3.toPandas()[\"SCODE\"].values.tolist():\n",
        "      flag.append(i['SCODE'])\n",
        "  return flag"
      ],
      "metadata": {
        "id": "mvFc6L1EjHBb"
      },
      "execution_count": 189,
      "outputs": []
    },
    {
      "cell_type": "code",
      "source": [
        "check_usn(\"4JN18CS047\")"
      ],
      "metadata": {
        "colab": {
          "base_uri": "https://localhost:8080/"
        },
        "id": "mMR9mqR-jhba",
        "outputId": "7d9d8a19-4559-459d-8d25-24abd71e6389"
      },
      "execution_count": 190,
      "outputs": [
        {
          "output_type": "execute_result",
          "data": {
            "text/plain": [
              "['18CIV14']"
            ]
          },
          "metadata": {},
          "execution_count": 190
        }
      ]
    },
    {
      "cell_type": "markdown",
      "source": [
        "To Verify the above result."
      ],
      "metadata": {
        "id": "caaBt9VFnH2D"
      }
    },
    {
      "cell_type": "code",
      "source": [
        "df2=dftry.filter((dftry.ExamType == 'Regular') & (dftry.RESULT == \"F\")& (dftry.USN == \"4JN18CS047\"))\n",
        "df2.show()"
      ],
      "metadata": {
        "colab": {
          "base_uri": "https://localhost:8080/"
        },
        "id": "ItsknzjLi3Ae",
        "outputId": "a119406a-3b6e-4034-c2c6-dcfdf47c0d00"
      },
      "execution_count": 172,
      "outputs": [
        {
          "output_type": "stream",
          "name": "stdout",
          "text": [
            "+----------+--------+---+------+--------+\n",
            "|       USN|   SCODE|TOT|RESULT|ExamType|\n",
            "+----------+--------+---+------+--------+\n",
            "|4JN18CS047| 18MAT11| 34|     F| Regular|\n",
            "|4JN18CS047| 18ELE13| 28|     F| Regular|\n",
            "|4JN18CS047| 18CIV14| 32|     F| Regular|\n",
            "|4JN18CS047|18EGDL15| 49|     F| Regular|\n",
            "|4JN18CS047|18PHYL16| 48|     F| Regular|\n",
            "|4JN18CS047| 18MAT21| 39|     F| Regular|\n",
            "|4JN18CS047| 18ELN24| 37|     F| Regular|\n",
            "+----------+--------+---+------+--------+\n",
            "\n"
          ]
        }
      ]
    },
    {
      "cell_type": "code",
      "source": [
        "df3=dftry.filter((dftry.ExamType == 'Backlog') & (dftry.RESULT == \"P\")& (dftry.USN == \"4JN18CS047\"))\n",
        "df3.show()\n"
      ],
      "metadata": {
        "colab": {
          "base_uri": "https://localhost:8080/"
        },
        "id": "rs13e2tN4cJ1",
        "outputId": "7cb62660-f6ec-49fa-c4ab-cb472f02acd2"
      },
      "execution_count": 173,
      "outputs": [
        {
          "output_type": "stream",
          "name": "stdout",
          "text": [
            "+----------+-------+---+------+--------+\n",
            "|       USN|  SCODE|TOT|RESULT|ExamType|\n",
            "+----------+-------+---+------+--------+\n",
            "|4JN18CS047|18CIV14| 44|     P| Backlog|\n",
            "+----------+-------+---+------+--------+\n",
            "\n"
          ]
        }
      ]
    }
  ]
}