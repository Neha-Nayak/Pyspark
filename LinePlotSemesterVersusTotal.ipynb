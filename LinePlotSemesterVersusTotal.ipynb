{
  "nbformat": 4,
  "nbformat_minor": 0,
  "metadata": {
    "colab": {
      "name": "LinePlotSemesterVersusTotal.ipynb",
      "provenance": [],
      "collapsed_sections": [],
      "mount_file_id": "1rM_T4vbxUEd2ZaIIlFhrCJR7qdquJKUx",
      "authorship_tag": "ABX9TyMimbjmYhyr4BxwjxqxIHxd",
      "include_colab_link": true
    },
    "kernelspec": {
      "name": "python3",
      "display_name": "Python 3"
    },
    "language_info": {
      "name": "python"
    }
  },
  "cells": [
    {
      "cell_type": "markdown",
      "metadata": {
        "id": "view-in-github",
        "colab_type": "text"
      },
      "source": [
        "<a href=\"https://colab.research.google.com/github/Neha-Nayak/Pyspark/blob/main/LinePlotSemesterVersusTotal.ipynb\" target=\"_parent\"><img src=\"https://colab.research.google.com/assets/colab-badge.svg\" alt=\"Open In Colab\"/></a>"
      ]
    },
    {
      "cell_type": "markdown",
      "source": [
        "\n",
        "\n",
        "# **Line Plot for Student performance**\n",
        "\n"
      ],
      "metadata": {
        "id": "RM3ZeYhbaDXF"
      }
    },
    {
      "cell_type": "markdown",
      "source": [
        "Installing PySpark"
      ],
      "metadata": {
        "id": "G5F-Wn9LaUFg"
      }
    },
    {
      "cell_type": "code",
      "execution_count": 5,
      "metadata": {
        "id": "aSayoiz0LWLo",
        "outputId": "83c098e2-645d-4613-f07e-5f2514aeb8c5",
        "colab": {
          "base_uri": "https://localhost:8080/"
        }
      },
      "outputs": [
        {
          "output_type": "stream",
          "name": "stdout",
          "text": [
            "Collecting pyspark\n",
            "  Downloading pyspark-3.2.1.tar.gz (281.4 MB)\n",
            "\u001b[K     |████████████████████████████████| 281.4 MB 36 kB/s \n",
            "\u001b[?25hCollecting py4j==0.10.9.3\n",
            "  Downloading py4j-0.10.9.3-py2.py3-none-any.whl (198 kB)\n",
            "\u001b[K     |████████████████████████████████| 198 kB 43.6 MB/s \n",
            "\u001b[?25hBuilding wheels for collected packages: pyspark\n",
            "  Building wheel for pyspark (setup.py) ... \u001b[?25l\u001b[?25hdone\n",
            "  Created wheel for pyspark: filename=pyspark-3.2.1-py2.py3-none-any.whl size=281853642 sha256=ee8e43a517e139e2d886ec7f6f1a0715bae41e0d97f56b1e5655d82f42c8b2ce\n",
            "  Stored in directory: /root/.cache/pip/wheels/9f/f5/07/7cd8017084dce4e93e84e92efd1e1d5334db05f2e83bcef74f\n",
            "Successfully built pyspark\n",
            "Installing collected packages: py4j, pyspark\n",
            "Successfully installed py4j-0.10.9.3 pyspark-3.2.1\n"
          ]
        }
      ],
      "source": [
        "#!pip install pyspark"
      ]
    },
    {
      "cell_type": "markdown",
      "source": [
        "Importing required modules"
      ],
      "metadata": {
        "id": "uqGUrnfTaeYI"
      }
    },
    {
      "cell_type": "code",
      "source": [
        "from pyspark.sql import SparkSession\n",
        "import matplotlib.pyplot as plt\n",
        "import pandas as pd"
      ],
      "metadata": {
        "id": "D3wXM5vQtpB0"
      },
      "execution_count": 6,
      "outputs": []
    },
    {
      "cell_type": "code",
      "source": [
        "spark=SparkSession.builder.appName(\"Visualisation\").getOrCreate()"
      ],
      "metadata": {
        "id": "VrdPtg2et-px"
      },
      "execution_count": 9,
      "outputs": []
    },
    {
      "cell_type": "markdown",
      "source": [
        "Reading the given Result_data "
      ],
      "metadata": {
        "id": "WDEPuW3ka0ri"
      }
    },
    {
      "cell_type": "code",
      "source": [
        "df_ResultData=spark.read.csv(\"Results_Data.csv\",header=True,inferSchema=True)\n",
        "df_ResultData.head(10)"
      ],
      "metadata": {
        "colab": {
          "base_uri": "https://localhost:8080/"
        },
        "id": "8l330-m5t-sl",
        "outputId": "51300de7-ba5b-4310-f041-61b7c24cf0e3"
      },
      "execution_count": 10,
      "outputs": [
        {
          "output_type": "execute_result",
          "data": {
            "text/plain": [
              "[Row(USN='4JN18CS001', SCODE='18MAT11', CIE=32, SEE=41, TOT=73, RESULT='P', GRADE=8, DATE='12019', ExamType='Regular'),\n",
              " Row(USN='4JN18CS001', SCODE='18PHY12', CIE=29, SEE=47, TOT=76, RESULT='P', GRADE=8, DATE='12019', ExamType='Regular'),\n",
              " Row(USN='4JN18CS001', SCODE='18ELE13', CIE=25, SEE=43, TOT=68, RESULT='P', GRADE=7, DATE='12019', ExamType='Regular'),\n",
              " Row(USN='4JN18CS001', SCODE='18CIV14', CIE=31, SEE=26, TOT=57, RESULT='P', GRADE=6, DATE='12019', ExamType='Regular'),\n",
              " Row(USN='4JN18CS001', SCODE='18EGDL15', CIE=31, SEE=56, TOT=87, RESULT='P', GRADE=9, DATE='12019', ExamType='Regular'),\n",
              " Row(USN='4JN18CS001', SCODE='18PHYL16', CIE=32, SEE=40, TOT=72, RESULT='P', GRADE=8, DATE='12019', ExamType='Regular'),\n",
              " Row(USN='4JN18CS001', SCODE='18ELEL17', CIE=34, SEE=52, TOT=86, RESULT='P', GRADE=9, DATE='12019', ExamType='Regular'),\n",
              " Row(USN='4JN18CS001', SCODE='18EGH18', CIE=27, SEE=32, TOT=59, RESULT='P', GRADE=6, DATE='12019', ExamType='Regular'),\n",
              " Row(USN='4JN18CS002', SCODE='18MAT11', CIE=33, SEE=51, TOT=84, RESULT='P', GRADE=9, DATE='12019', ExamType='Regular'),\n",
              " Row(USN='4JN18CS002', SCODE='18PHY12', CIE=36, SEE=45, TOT=81, RESULT='P', GRADE=9, DATE='12019', ExamType='Regular')]"
            ]
          },
          "metadata": {},
          "execution_count": 10
        }
      ]
    },
    {
      "cell_type": "code",
      "source": [
        "df_ResultData.show(10)"
      ],
      "metadata": {
        "colab": {
          "base_uri": "https://localhost:8080/"
        },
        "id": "YY-FLHult-vh",
        "outputId": "6ddce3b7-bf0f-4332-fbb0-43a87b4e8cff"
      },
      "execution_count": 11,
      "outputs": [
        {
          "output_type": "stream",
          "name": "stdout",
          "text": [
            "+----------+--------+---+---+---+------+-----+-----+--------+\n",
            "|       USN|   SCODE|CIE|SEE|TOT|RESULT|GRADE| DATE|ExamType|\n",
            "+----------+--------+---+---+---+------+-----+-----+--------+\n",
            "|4JN18CS001| 18MAT11| 32| 41| 73|     P|    8|12019| Regular|\n",
            "|4JN18CS001| 18PHY12| 29| 47| 76|     P|    8|12019| Regular|\n",
            "|4JN18CS001| 18ELE13| 25| 43| 68|     P|    7|12019| Regular|\n",
            "|4JN18CS001| 18CIV14| 31| 26| 57|     P|    6|12019| Regular|\n",
            "|4JN18CS001|18EGDL15| 31| 56| 87|     P|    9|12019| Regular|\n",
            "|4JN18CS001|18PHYL16| 32| 40| 72|     P|    8|12019| Regular|\n",
            "|4JN18CS001|18ELEL17| 34| 52| 86|     P|    9|12019| Regular|\n",
            "|4JN18CS001| 18EGH18| 27| 32| 59|     P|    6|12019| Regular|\n",
            "|4JN18CS002| 18MAT11| 33| 51| 84|     P|    9|12019| Regular|\n",
            "|4JN18CS002| 18PHY12| 36| 45| 81|     P|    9|12019| Regular|\n",
            "+----------+--------+---+---+---+------+-----+-----+--------+\n",
            "only showing top 10 rows\n",
            "\n"
          ]
        }
      ]
    },
    {
      "cell_type": "markdown",
      "source": [
        "Columns USN, DATE and TOTAL are formatted for our test case."
      ],
      "metadata": {
        "id": "FjEzcFFCu6jj"
      }
    },
    {
      "cell_type": "code",
      "source": [
        "df_ResultData.select('DATE').distinct().collect()"
      ],
      "metadata": {
        "colab": {
          "base_uri": "https://localhost:8080/"
        },
        "id": "4xtXfD0608IO",
        "outputId": "599c7513-dc57-4609-ebd9-21f1a6a87a36"
      },
      "execution_count": 23,
      "outputs": [
        {
          "output_type": "execute_result",
          "data": {
            "text/plain": [
              "[Row(DATE='Jul-20'),\n",
              " Row(DATE='72019'),\n",
              " Row(DATE='12019'),\n",
              " Row(DATE='20-Jul'),\n",
              " Row(DATE='12020'),\n",
              " Row(DATE='Jan-20')]"
            ]
          },
          "metadata": {},
          "execution_count": 23
        }
      ]
    },
    {
      "cell_type": "code",
      "source": [
        "from pyspark.sql.functions import when\n",
        "dfT = df_ResultData.withColumn(\"DATE\", when(df_ResultData.DATE == 'Jul-20','2020_7')\n",
        "                                 .when(df_ResultData.DATE == '20-Jul','2020_7')\n",
        "                                 .when(df_ResultData.DATE == 'Jan-20','2020_1')\n",
        "                                 .when(df_ResultData.DATE == '12019','2019_1')\n",
        "                                 .when(df_ResultData.DATE == '72019','2019_7')\n",
        "                                 .when(df_ResultData.DATE == '12020','2020_1')\n",
        "                                 .when(df_ResultData.DATE == '72020','2020_7'))\n",
        "dfT.select('DATE').distinct().collect()"
      ],
      "metadata": {
        "colab": {
          "base_uri": "https://localhost:8080/"
        },
        "id": "7UDA_9tPQubb",
        "outputId": "5f4cf0d1-cd2e-4e97-ca80-1631a66d9f2b"
      },
      "execution_count": 95,
      "outputs": [
        {
          "output_type": "execute_result",
          "data": {
            "text/plain": [
              "[Row(DATE='2020_1'),\n",
              " Row(DATE='2019_7'),\n",
              " Row(DATE='2020_7'),\n",
              " Row(DATE='2019_1')]"
            ]
          },
          "metadata": {},
          "execution_count": 95
        }
      ]
    },
    {
      "cell_type": "code",
      "source": [
        "def filter(usn):\n",
        "  dftry1=dfT.filter(dfT.USN == usn)\n",
        "  return dftry1"
      ],
      "metadata": {
        "id": "V0qwFhU4G61D"
      },
      "execution_count": 98,
      "outputs": []
    },
    {
      "cell_type": "markdown",
      "source": [
        "Selecting a particular USN for whom the performance graph will be plotted"
      ],
      "metadata": {
        "id": "wWuA7FbHYuuR"
      }
    },
    {
      "cell_type": "code",
      "source": [
        "df_usn=filter('4JN17CS010')\n",
        "df_data=df_usn.select('DATE','TOT')\n",
        "df_data.show(10)"
      ],
      "metadata": {
        "colab": {
          "base_uri": "https://localhost:8080/"
        },
        "id": "cIKYtWfSHUbC",
        "outputId": "5319a538-b638-49ba-a34e-ec36dc0aa960"
      },
      "execution_count": 115,
      "outputs": [
        {
          "output_type": "stream",
          "name": "stdout",
          "text": [
            "+------+---+\n",
            "|  DATE|TOT|\n",
            "+------+---+\n",
            "|2019_1| 69|\n",
            "|2019_1| 69|\n",
            "|2019_1| 57|\n",
            "|2019_1| 61|\n",
            "|2019_1| 43|\n",
            "|2019_1| 48|\n",
            "|2019_1| 83|\n",
            "|2019_1| 91|\n",
            "|2019_1| 34|\n",
            "|2019_7| 77|\n",
            "+------+---+\n",
            "only showing top 10 rows\n",
            "\n"
          ]
        }
      ]
    },
    {
      "cell_type": "markdown",
      "source": [
        "Obtaining Average of Total marks for a student in a particulat semester. "
      ],
      "metadata": {
        "id": "vzEhEPRhY7Qn"
      }
    },
    {
      "cell_type": "code",
      "source": [
        "dfPlot1=df_data.groupBy(\"DATE\").avg(\"TOT\")\n",
        "dfPlot=dfPlot1.sort('DATE')\n",
        "dfPlot.show()"
      ],
      "metadata": {
        "colab": {
          "base_uri": "https://localhost:8080/"
        },
        "id": "TJXEpF9at-yv",
        "outputId": "0324e00a-85aa-4da1-819a-5bd5020594cb"
      },
      "execution_count": 116,
      "outputs": [
        {
          "output_type": "stream",
          "name": "stdout",
          "text": [
            "+------+------------------+\n",
            "|  DATE|          avg(TOT)|\n",
            "+------+------------------+\n",
            "|2019_1|61.666666666666664|\n",
            "|2019_7|62.666666666666664|\n",
            "|2020_1|             67.75|\n",
            "|2020_7|            78.125|\n",
            "+------+------------------+\n",
            "\n"
          ]
        }
      ]
    },
    {
      "cell_type": "markdown",
      "source": [
        "Line plot for Student performance, which determines the average of total marks obtained by the student in a particular semester."
      ],
      "metadata": {
        "id": "yYDMK1gmZIBP"
      }
    },
    {
      "cell_type": "code",
      "source": [
        "plt.title('Student Performnace')\n",
        "plt.xlabel('Year')\n",
        "plt.ylabel('Total Marks')\n",
        "x=dfPlot.toPandas()['DATE'].values.tolist()\n",
        "y=dfPlot.toPandas()['avg(TOT)'].values.tolist()\n",
        "plt.plot(x,y,marker = 'o')\n",
        "plt.ylim(0,100)\n",
        "plt.show()"
      ],
      "metadata": {
        "colab": {
          "base_uri": "https://localhost:8080/",
          "height": 296
        },
        "id": "qBME6WST_orn",
        "outputId": "e4e51b8f-6f2a-4b94-ff9c-891dc3034af3"
      },
      "execution_count": 120,
      "outputs": [
        {
          "output_type": "display_data",
          "data": {
            "text/plain": [
              "<Figure size 432x288 with 1 Axes>"
            ],
            "image/png": "[encoded data removed]"
          },
          "metadata": {
            "needs_background": "light"
          }
        }
      ]
    }
  ]
}